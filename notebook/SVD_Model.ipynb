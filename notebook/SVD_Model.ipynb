{
 "cells": [
  {
   "cell_type": "code",
   "execution_count": 144,
   "metadata": {},
   "outputs": [],
   "source": [
    "import pandas as pd\n",
    "import numpy as np\n",
    "import time\n",
    "from surprise import SVD, Reader\n",
    "from surprise import Dataset\n",
    "from surprise.model_selection import cross_validate, GridSearchCV\n",
    "from surprise import accuracy\n",
    "from surprise.model_selection import train_test_split\n",
    "from surprise import dump\n",
    "     "
   ]
  },
  {
   "cell_type": "code",
   "execution_count": 145,
   "metadata": {},
   "outputs": [],
   "source": [
    "def convert_traintest_dataframe_forsurprise(training_dataframe, testing_dataframe):\n",
    "    reader = Reader(rating_scale=(0, 5))\n",
    "    trainDataset = Dataset.load_from_df(training_dataframe[['userId', 'movieId', 'rating']], reader)\n",
    "    testDataset = Dataset.load_from_df(testing_dataframe[['userId', 'movieId', 'rating']], reader)\n",
    "    trainset = trainDataset.build_full_trainset()\n",
    "    testset = (testDataset.build_full_trainset()).build_testset()\n",
    "    return trainDataset, testDataset, trainset, testset"
   ]
  },
  {
   "cell_type": "code",
   "execution_count": 146,
   "metadata": {},
   "outputs": [],
   "source": [
    "file_path_train = 'training_data.csv'\n",
    "file_path_test = 'testing_data.csv'\n",
    "traindf = pd.read_csv(file_path_train)\n",
    "testdf = pd.read_csv(file_path_test)\n",
    "trainDataset, testDataset, trainset, testset = convert_traintest_dataframe_forsurprise(traindf, testdf)"
   ]
  },
  {
   "cell_type": "code",
   "execution_count": 147,
   "metadata": {},
   "outputs": [
    {
     "data": {
      "text/html": [
       "<div>\n",
       "<style scoped>\n",
       "    .dataframe tbody tr th:only-of-type {\n",
       "        vertical-align: middle;\n",
       "    }\n",
       "\n",
       "    .dataframe tbody tr th {\n",
       "        vertical-align: top;\n",
       "    }\n",
       "\n",
       "    .dataframe thead th {\n",
       "        text-align: right;\n",
       "    }\n",
       "</style>\n",
       "<table border=\"1\" class=\"dataframe\">\n",
       "  <thead>\n",
       "    <tr style=\"text-align: right;\">\n",
       "      <th></th>\n",
       "      <th>userId</th>\n",
       "      <th>movieId</th>\n",
       "      <th>title</th>\n",
       "      <th>rating</th>\n",
       "    </tr>\n",
       "  </thead>\n",
       "  <tbody>\n",
       "    <tr>\n",
       "      <th>0</th>\n",
       "      <td>1</td>\n",
       "      <td>1371</td>\n",
       "      <td>Rocky III</td>\n",
       "      <td>2.5</td>\n",
       "    </tr>\n",
       "    <tr>\n",
       "      <th>1</th>\n",
       "      <td>1</td>\n",
       "      <td>2105</td>\n",
       "      <td>American Pie</td>\n",
       "      <td>4.0</td>\n",
       "    </tr>\n",
       "    <tr>\n",
       "      <th>2</th>\n",
       "      <td>1</td>\n",
       "      <td>2193</td>\n",
       "      <td>My Tutor</td>\n",
       "      <td>2.0</td>\n",
       "    </tr>\n",
       "    <tr>\n",
       "      <th>3</th>\n",
       "      <td>1</td>\n",
       "      <td>2294</td>\n",
       "      <td>Jay and Silent Bob Strike Back</td>\n",
       "      <td>2.0</td>\n",
       "    </tr>\n",
       "    <tr>\n",
       "      <th>4</th>\n",
       "      <td>2</td>\n",
       "      <td>62</td>\n",
       "      <td>2001: A Space Odyssey</td>\n",
       "      <td>3.0</td>\n",
       "    </tr>\n",
       "  </tbody>\n",
       "</table>\n",
       "</div>"
      ],
      "text/plain": [
       "   userId  movieId                           title  rating\n",
       "0       1     1371                       Rocky III     2.5\n",
       "1       1     2105                    American Pie     4.0\n",
       "2       1     2193                        My Tutor     2.0\n",
       "3       1     2294  Jay and Silent Bob Strike Back     2.0\n",
       "4       2       62           2001: A Space Odyssey     3.0"
      ]
     },
     "execution_count": 147,
     "metadata": {},
     "output_type": "execute_result"
    }
   ],
   "source": [
    "traindf.head(5)"
   ]
  },
  {
   "cell_type": "code",
   "execution_count": 148,
   "metadata": {},
   "outputs": [],
   "source": [
    "def recommendation(algo, trainset, testset):\n",
    "  # Train the algorithm on the trainset, and predict ratings for the testset\n",
    "  start_fit = time.time()\n",
    "  algo.fit(trainset)\n",
    "  end_fit = time.time()\n",
    "  fit_time = end_fit - start_fit\n",
    "\n",
    "  # Predictions on testing set\n",
    "  start_test = time.time()\n",
    "  test_predictions = algo.test(testset)\n",
    "  end_test = time.time()\n",
    "  test_time = end_test - start_test\n",
    "\n",
    "  test_rmse = accuracy.rmse(test_predictions)\n",
    "  test_mae = accuracy.mae(test_predictions)\n",
    "  \n",
    "  return test_rmse, test_mae, test_predictions, fit_time, test_time"
   ]
  },
  {
   "cell_type": "code",
   "execution_count": 149,
   "metadata": {},
   "outputs": [
    {
     "name": "stdout",
     "output_type": "stream",
     "text": [
      "RMSE: 0.8977\n",
      "MAE:  0.6890\n",
      "fit time: 0.23482656478881836\n",
      "test time: 0.03498387336730957\n"
     ]
    }
   ],
   "source": [
    "\n",
    "svd_algo = SVD()\n",
    "\n",
    "# Train the algorithm on the trainset, and predict ratings for the testset\n",
    "test_rmse, test_mae, test_predictions, fit_time, test_time = recommendation(svd_algo,trainset,testset)\n",
    "print('fit time: '+str(fit_time))\n",
    "print('test time: '+str(test_time))"
   ]
  },
  {
   "attachments": {},
   "cell_type": "markdown",
   "metadata": {},
   "source": [
    "Fine tuning Hyperparameters:"
   ]
  },
  {
   "cell_type": "code",
   "execution_count": 150,
   "metadata": {},
   "outputs": [
    {
     "data": {
      "text/html": [
       "<div>\n",
       "<style scoped>\n",
       "    .dataframe tbody tr th:only-of-type {\n",
       "        vertical-align: middle;\n",
       "    }\n",
       "\n",
       "    .dataframe tbody tr th {\n",
       "        vertical-align: top;\n",
       "    }\n",
       "\n",
       "    .dataframe thead th {\n",
       "        text-align: right;\n",
       "    }\n",
       "</style>\n",
       "<table border=\"1\" class=\"dataframe\">\n",
       "  <thead>\n",
       "    <tr style=\"text-align: right;\">\n",
       "      <th></th>\n",
       "      <th>userId</th>\n",
       "      <th>movieId</th>\n",
       "      <th>title</th>\n",
       "      <th>rating</th>\n",
       "    </tr>\n",
       "  </thead>\n",
       "  <tbody>\n",
       "    <tr>\n",
       "      <th>0</th>\n",
       "      <td>1</td>\n",
       "      <td>1371</td>\n",
       "      <td>Rocky III</td>\n",
       "      <td>2.5</td>\n",
       "    </tr>\n",
       "    <tr>\n",
       "      <th>1</th>\n",
       "      <td>1</td>\n",
       "      <td>2105</td>\n",
       "      <td>American Pie</td>\n",
       "      <td>4.0</td>\n",
       "    </tr>\n",
       "    <tr>\n",
       "      <th>2</th>\n",
       "      <td>1</td>\n",
       "      <td>2193</td>\n",
       "      <td>My Tutor</td>\n",
       "      <td>2.0</td>\n",
       "    </tr>\n",
       "    <tr>\n",
       "      <th>3</th>\n",
       "      <td>1</td>\n",
       "      <td>2294</td>\n",
       "      <td>Jay and Silent Bob Strike Back</td>\n",
       "      <td>2.0</td>\n",
       "    </tr>\n",
       "    <tr>\n",
       "      <th>4</th>\n",
       "      <td>2</td>\n",
       "      <td>62</td>\n",
       "      <td>2001: A Space Odyssey</td>\n",
       "      <td>3.0</td>\n",
       "    </tr>\n",
       "  </tbody>\n",
       "</table>\n",
       "</div>"
      ],
      "text/plain": [
       "   userId  movieId                           title  rating\n",
       "0       1     1371                       Rocky III     2.5\n",
       "1       1     2105                    American Pie     4.0\n",
       "2       1     2193                        My Tutor     2.0\n",
       "3       1     2294  Jay and Silent Bob Strike Back     2.0\n",
       "4       2       62           2001: A Space Odyssey     3.0"
      ]
     },
     "execution_count": 150,
     "metadata": {},
     "output_type": "execute_result"
    }
   ],
   "source": [
    "traindf.head(5)"
   ]
  },
  {
   "cell_type": "code",
   "execution_count": 151,
   "metadata": {},
   "outputs": [
    {
     "name": "stdout",
     "output_type": "stream",
     "text": [
      "0.8976765913599326\n",
      "{'n_factors': 25, 'n_epochs': 10, 'lr_all': 0.01, 'reg_all': 0.02}\n",
      "0.6935297660283708\n",
      "{'n_factors': 25, 'n_epochs': 10, 'lr_all': 0.01, 'reg_all': 0.02}\n"
     ]
    }
   ],
   "source": [
    "param_grid = {'n_factors':[25, 50, 100], 'n_epochs': [5, 10, 20], 'lr_all': [0.01, 0.02],\n",
    "              'reg_all': [0.01, 0.02]}\n",
    "\n",
    "\n",
    "gs = GridSearchCV(SVD, param_grid, measures=[\"rmse\", \"mae\"], cv=5)\n",
    "\n",
    "gs.fit(trainDataset)\n",
    "\n",
    "# best RMSE score\n",
    "print(gs.best_score['rmse'])\n",
    "\n",
    "# combination of parameters that gave the best RMSE score\n",
    "print(gs.best_params['rmse'])\n",
    "\n",
    "# best RMSE score\n",
    "print(gs.best_score['mae'])\n",
    "\n",
    "# combination of parameters that gave the best RMSE score\n",
    "print(gs.best_params['mae'])"
   ]
  },
  {
   "cell_type": "code",
   "execution_count": 152,
   "metadata": {},
   "outputs": [
    {
     "name": "stdout",
     "output_type": "stream",
     "text": [
      "RMSE: 0.8882\n",
      "MAE:  0.6799\n",
      "fit time: 0.0638267993927002\n",
      "test time: 0.02873849868774414\n"
     ]
    }
   ],
   "source": [
    "svd_algo = gs.best_estimator[\"rmse\"]\n",
    "test_rmse, test_mae, test_predictions, fit_time, test_time = recommendation(svd_algo,trainset,testset)\n",
    "print('fit time: '+str(fit_time))\n",
    "print('test time: '+str(test_time))"
   ]
  },
  {
   "cell_type": "code",
   "execution_count": 153,
   "metadata": {},
   "outputs": [],
   "source": [
    "file_name = 'svd_model'\n",
    "dump.dump(file_name, predictions=test_predictions, algo=svd_algo)"
   ]
  }
 ],
 "metadata": {
  "kernelspec": {
   "display_name": "Python 3",
   "language": "python",
   "name": "python3"
  },
  "language_info": {
   "codemirror_mode": {
    "name": "ipython",
    "version": 3
   },
   "file_extension": ".py",
   "mimetype": "text/x-python",
   "name": "python",
   "nbconvert_exporter": "python",
   "pygments_lexer": "ipython3",
   "version": "3.10.10"
  },
  "orig_nbformat": 4
 },
 "nbformat": 4,
 "nbformat_minor": 2
}
