{
 "cells": [
  {
   "cell_type": "code",
   "execution_count": 4,
   "metadata": {},
   "outputs": [],
   "source": [
    "import pandas as pd\n",
    "import numpy as np\n",
    "import time\n",
    "from surprise import SVD, Reader\n",
    "from surprise import Dataset\n",
    "from surprise.model_selection import cross_validate, GridSearchCV\n",
    "from surprise import accuracy\n",
    "from surprise.model_selection import train_test_split\n",
    "from surprise import dump"
   ]
  },
  {
   "cell_type": "code",
   "execution_count": 16,
   "metadata": {},
   "outputs": [
    {
     "data": {
      "text/html": [
       "<div>\n",
       "<style scoped>\n",
       "    .dataframe tbody tr th:only-of-type {\n",
       "        vertical-align: middle;\n",
       "    }\n",
       "\n",
       "    .dataframe tbody tr th {\n",
       "        vertical-align: top;\n",
       "    }\n",
       "\n",
       "    .dataframe thead th {\n",
       "        text-align: right;\n",
       "    }\n",
       "</style>\n",
       "<table border=\"1\" class=\"dataframe\">\n",
       "  <thead>\n",
       "    <tr style=\"text-align: right;\">\n",
       "      <th></th>\n",
       "      <th>userId</th>\n",
       "      <th>movieId</th>\n",
       "      <th>title</th>\n",
       "      <th>rating</th>\n",
       "    </tr>\n",
       "  </thead>\n",
       "  <tbody>\n",
       "    <tr>\n",
       "      <th>0</th>\n",
       "      <td>1</td>\n",
       "      <td>1371</td>\n",
       "      <td>Rocky III</td>\n",
       "      <td>2.5</td>\n",
       "    </tr>\n",
       "    <tr>\n",
       "      <th>1</th>\n",
       "      <td>1</td>\n",
       "      <td>1405</td>\n",
       "      <td>Greed</td>\n",
       "      <td>1.0</td>\n",
       "    </tr>\n",
       "    <tr>\n",
       "      <th>2</th>\n",
       "      <td>1</td>\n",
       "      <td>2105</td>\n",
       "      <td>American Pie</td>\n",
       "      <td>4.0</td>\n",
       "    </tr>\n",
       "    <tr>\n",
       "      <th>3</th>\n",
       "      <td>1</td>\n",
       "      <td>2193</td>\n",
       "      <td>My Tutor</td>\n",
       "      <td>2.0</td>\n",
       "    </tr>\n",
       "    <tr>\n",
       "      <th>4</th>\n",
       "      <td>1</td>\n",
       "      <td>2294</td>\n",
       "      <td>Jay and Silent Bob Strike Back</td>\n",
       "      <td>2.0</td>\n",
       "    </tr>\n",
       "  </tbody>\n",
       "</table>\n",
       "</div>"
      ],
      "text/plain": [
       "   userId  movieId                           title  rating\n",
       "0       1     1371                       Rocky III     2.5\n",
       "1       1     1405                           Greed     1.0\n",
       "2       1     2105                    American Pie     4.0\n",
       "3       1     2193                        My Tutor     2.0\n",
       "4       1     2294  Jay and Silent Bob Strike Back     2.0"
      ]
     },
     "execution_count": 16,
     "metadata": {},
     "output_type": "execute_result"
    }
   ],
   "source": [
    "ratings_df = pd.read_csv(\"ratings_data.csv\")\n",
    "ratings_df.head(5)"
   ]
  },
  {
   "cell_type": "code",
   "execution_count": 11,
   "metadata": {},
   "outputs": [],
   "source": [
    "svd = dump.load('svd_model')\n",
    "svd_algo = svd[1]"
   ]
  },
  {
   "cell_type": "code",
   "execution_count": 5,
   "metadata": {},
   "outputs": [],
   "source": [
    "def convert_traintest_dataframe_forsurprise(training_dataframe, testing_dataframe):\n",
    "    reader = Reader(rating_scale=(0, 5))\n",
    "    trainDataset = Dataset.load_from_df(training_dataframe[['userId', 'movieId', 'rating']], reader)\n",
    "    testDataset = Dataset.load_from_df(testing_dataframe[['userId', 'movieId', 'rating']], reader)\n",
    "    trainset = trainDataset.build_full_trainset()\n",
    "    testset = (testDataset.build_full_trainset()).build_testset()\n",
    "    return trainDataset, testDataset, trainset, testset"
   ]
  },
  {
   "cell_type": "code",
   "execution_count": 6,
   "metadata": {},
   "outputs": [],
   "source": [
    "file_path_train = 'training_data.csv'\n",
    "file_path_test = 'testing_data.csv'\n",
    "traindf = pd.read_csv(file_path_train)\n",
    "testdf = pd.read_csv(file_path_test)\n",
    "trainDataset, testDataset, trainset, testset = convert_traintest_dataframe_forsurprise(traindf, testdf)"
   ]
  },
  {
   "cell_type": "code",
   "execution_count": 20,
   "metadata": {},
   "outputs": [],
   "source": [
    "Mapping_file = dict(zip(ratings_df['title'].tolist(), ratings_df['movieId'].tolist()))"
   ]
  },
  {
   "cell_type": "code",
   "execution_count": 25,
   "metadata": {},
   "outputs": [],
   "source": [
    "def pred_user_rating(ui):\n",
    "    if ui in ratings_df.userId.unique():\n",
    "        ui_list = ratings_df[ratings_df.userId == ui].movieId.tolist()\n",
    "        d = {k: v for k,v in Mapping_file.items() if not v in ui_list}        \n",
    "        predictedL = []\n",
    "        for i, j in d.items():     \n",
    "            predicted = svd_algo.predict(ui, j)\n",
    "            predictedL.append((i, predicted[3])) \n",
    "        pdf = pd.DataFrame(predictedL, columns = ['movies', 'ratings'])\n",
    "        pdf.sort_values('ratings', ascending=False, inplace=True)  \n",
    "        pdf.set_index('movies', inplace=True)    \n",
    "        return pdf.head(10)        \n",
    "    else:\n",
    "        print(\"User Id does not exist in the list!\")\n",
    "        return None"
   ]
  },
  {
   "cell_type": "code",
   "execution_count": 26,
   "metadata": {},
   "outputs": [
    {
     "data": {
      "text/html": [
       "<div>\n",
       "<style scoped>\n",
       "    .dataframe tbody tr th:only-of-type {\n",
       "        vertical-align: middle;\n",
       "    }\n",
       "\n",
       "    .dataframe tbody tr th {\n",
       "        vertical-align: top;\n",
       "    }\n",
       "\n",
       "    .dataframe thead th {\n",
       "        text-align: right;\n",
       "    }\n",
       "</style>\n",
       "<table border=\"1\" class=\"dataframe\">\n",
       "  <thead>\n",
       "    <tr style=\"text-align: right;\">\n",
       "      <th></th>\n",
       "      <th>ratings</th>\n",
       "    </tr>\n",
       "    <tr>\n",
       "      <th>movies</th>\n",
       "      <th></th>\n",
       "    </tr>\n",
       "  </thead>\n",
       "  <tbody>\n",
       "    <tr>\n",
       "      <th>Galaxy Quest</th>\n",
       "      <td>4.279369</td>\n",
       "    </tr>\n",
       "    <tr>\n",
       "      <th>Sleepless in Seattle</th>\n",
       "      <td>4.273430</td>\n",
       "    </tr>\n",
       "    <tr>\n",
       "      <th>The Million Dollar Hotel</th>\n",
       "      <td>4.252846</td>\n",
       "    </tr>\n",
       "    <tr>\n",
       "      <th>The Thomas Crown Affair</th>\n",
       "      <td>4.222947</td>\n",
       "    </tr>\n",
       "    <tr>\n",
       "      <th>Nell</th>\n",
       "      <td>4.206096</td>\n",
       "    </tr>\n",
       "    <tr>\n",
       "      <th>Pandora's Box</th>\n",
       "      <td>4.194293</td>\n",
       "    </tr>\n",
       "    <tr>\n",
       "      <th>The Good Thief</th>\n",
       "      <td>4.164970</td>\n",
       "    </tr>\n",
       "    <tr>\n",
       "      <th>The Green Mile</th>\n",
       "      <td>4.106310</td>\n",
       "    </tr>\n",
       "    <tr>\n",
       "      <th>Madagascar</th>\n",
       "      <td>4.082344</td>\n",
       "    </tr>\n",
       "    <tr>\n",
       "      <th>Once Were Warriors</th>\n",
       "      <td>4.070140</td>\n",
       "    </tr>\n",
       "  </tbody>\n",
       "</table>\n",
       "</div>"
      ],
      "text/plain": [
       "                           ratings\n",
       "movies                            \n",
       "Galaxy Quest              4.279369\n",
       "Sleepless in Seattle      4.273430\n",
       "The Million Dollar Hotel  4.252846\n",
       "The Thomas Crown Affair   4.222947\n",
       "Nell                      4.206096\n",
       "Pandora's Box             4.194293\n",
       "The Good Thief            4.164970\n",
       "The Green Mile            4.106310\n",
       "Madagascar                4.082344\n",
       "Once Were Warriors        4.070140"
      ]
     },
     "execution_count": 26,
     "metadata": {},
     "output_type": "execute_result"
    }
   ],
   "source": [
    "user_id = 1\n",
    "pred_user_rating(user_id)"
   ]
  },
  {
   "cell_type": "code",
   "execution_count": 30,
   "metadata": {},
   "outputs": [
    {
     "data": {
      "text/html": [
       "<div>\n",
       "<style scoped>\n",
       "    .dataframe tbody tr th:only-of-type {\n",
       "        vertical-align: middle;\n",
       "    }\n",
       "\n",
       "    .dataframe tbody tr th {\n",
       "        vertical-align: top;\n",
       "    }\n",
       "\n",
       "    .dataframe thead th {\n",
       "        text-align: right;\n",
       "    }\n",
       "</style>\n",
       "<table border=\"1\" class=\"dataframe\">\n",
       "  <thead>\n",
       "    <tr style=\"text-align: right;\">\n",
       "      <th></th>\n",
       "      <th>userId</th>\n",
       "      <th>movieId</th>\n",
       "      <th>title</th>\n",
       "      <th>rating</th>\n",
       "    </tr>\n",
       "  </thead>\n",
       "  <tbody>\n",
       "    <tr>\n",
       "      <th>0</th>\n",
       "      <td>1</td>\n",
       "      <td>1371</td>\n",
       "      <td>Rocky III</td>\n",
       "      <td>2.5</td>\n",
       "    </tr>\n",
       "    <tr>\n",
       "      <th>1</th>\n",
       "      <td>1</td>\n",
       "      <td>1405</td>\n",
       "      <td>Greed</td>\n",
       "      <td>1.0</td>\n",
       "    </tr>\n",
       "    <tr>\n",
       "      <th>2</th>\n",
       "      <td>1</td>\n",
       "      <td>2105</td>\n",
       "      <td>American Pie</td>\n",
       "      <td>4.0</td>\n",
       "    </tr>\n",
       "    <tr>\n",
       "      <th>3</th>\n",
       "      <td>1</td>\n",
       "      <td>2193</td>\n",
       "      <td>My Tutor</td>\n",
       "      <td>2.0</td>\n",
       "    </tr>\n",
       "    <tr>\n",
       "      <th>4</th>\n",
       "      <td>1</td>\n",
       "      <td>2294</td>\n",
       "      <td>Jay and Silent Bob Strike Back</td>\n",
       "      <td>2.0</td>\n",
       "    </tr>\n",
       "  </tbody>\n",
       "</table>\n",
       "</div>"
      ],
      "text/plain": [
       "   userId  movieId                           title  rating\n",
       "0       1     1371                       Rocky III     2.5\n",
       "1       1     1405                           Greed     1.0\n",
       "2       1     2105                    American Pie     4.0\n",
       "3       1     2193                        My Tutor     2.0\n",
       "4       1     2294  Jay and Silent Bob Strike Back     2.0"
      ]
     },
     "execution_count": 30,
     "metadata": {},
     "output_type": "execute_result"
    }
   ],
   "source": [
    "user_1 = ratings_df[ratings_df['userId'] == 1]\n",
    "user_1"
   ]
  }
 ],
 "metadata": {
  "kernelspec": {
   "display_name": "Python 3",
   "language": "python",
   "name": "python3"
  },
  "language_info": {
   "codemirror_mode": {
    "name": "ipython",
    "version": 3
   },
   "file_extension": ".py",
   "mimetype": "text/x-python",
   "name": "python",
   "nbconvert_exporter": "python",
   "pygments_lexer": "ipython3",
   "version": "3.10.10"
  },
  "orig_nbformat": 4
 },
 "nbformat": 4,
 "nbformat_minor": 2
}
